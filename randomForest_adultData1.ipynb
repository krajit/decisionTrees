{
 "cells": [
  {
   "cell_type": "markdown",
   "id": "61c1ecda-6311-4927-934b-e8eca5e57761",
   "metadata": {},
   "source": [
    "# Random Forest example"
   ]
  },
  {
   "cell_type": "code",
   "execution_count": 2,
   "id": "15052b2b-1ce5-47e0-ad35-0d1e230a8bd9",
   "metadata": {
    "tags": []
   },
   "outputs": [],
   "source": [
    "import numpy as np\n",
    "import pandas as pd\n",
    "pd.set_option('display.precision',3)"
   ]
  },
  {
   "cell_type": "markdown",
   "id": "bedf3a30-cf1e-4710-8457-e9a6590fc803",
   "metadata": {},
   "source": [
    "## Problem: Adult Data set"
   ]
  },
  {
   "cell_type": "code",
   "execution_count": 3,
   "id": "dd348c72-2c73-47dc-8a29-a3a58618d12f",
   "metadata": {
    "tags": []
   },
   "outputs": [],
   "source": [
    "# for Jupyter-book, we copy data from GitHub, locally, to save Internet traffic,\n",
    "# you can specify the data/ folder from the root of your cloned\n",
    "# https://github.com/Yorko/mlcourse.ai repo, to save Internet traffic\n",
    "DATA_PATH = \"https://raw.githubusercontent.com/Yorko/mlcourse.ai/main/data/\""
   ]
  },
  {
   "cell_type": "code",
   "execution_count": 4,
   "id": "1480d296-169e-4795-aa4e-3277deecb4c7",
   "metadata": {
    "tags": []
   },
   "outputs": [
    {
     "data": {
      "text/html": [
       "<div>\n",
       "<style scoped>\n",
       "    .dataframe tbody tr th:only-of-type {\n",
       "        vertical-align: middle;\n",
       "    }\n",
       "\n",
       "    .dataframe tbody tr th {\n",
       "        vertical-align: top;\n",
       "    }\n",
       "\n",
       "    .dataframe thead th {\n",
       "        text-align: right;\n",
       "    }\n",
       "</style>\n",
       "<table border=\"1\" class=\"dataframe\">\n",
       "  <thead>\n",
       "    <tr style=\"text-align: right;\">\n",
       "      <th></th>\n",
       "      <th>Age</th>\n",
       "      <th>Workclass</th>\n",
       "      <th>fnlwgt</th>\n",
       "      <th>Education</th>\n",
       "      <th>Education_Num</th>\n",
       "      <th>Martial_Status</th>\n",
       "      <th>Occupation</th>\n",
       "      <th>Relationship</th>\n",
       "      <th>Race</th>\n",
       "      <th>Sex</th>\n",
       "      <th>Capital_Gain</th>\n",
       "      <th>Capital_Loss</th>\n",
       "      <th>Hours_per_week</th>\n",
       "      <th>Country</th>\n",
       "      <th>Target</th>\n",
       "    </tr>\n",
       "  </thead>\n",
       "  <tbody>\n",
       "    <tr>\n",
       "      <th>32556</th>\n",
       "      <td>27</td>\n",
       "      <td>Private</td>\n",
       "      <td>257302</td>\n",
       "      <td>Assoc-acdm</td>\n",
       "      <td>12</td>\n",
       "      <td>Married-civ-spouse</td>\n",
       "      <td>Tech-support</td>\n",
       "      <td>Wife</td>\n",
       "      <td>White</td>\n",
       "      <td>Female</td>\n",
       "      <td>0</td>\n",
       "      <td>0</td>\n",
       "      <td>38</td>\n",
       "      <td>United-States</td>\n",
       "      <td>&lt;=50K</td>\n",
       "    </tr>\n",
       "    <tr>\n",
       "      <th>32557</th>\n",
       "      <td>40</td>\n",
       "      <td>Private</td>\n",
       "      <td>154374</td>\n",
       "      <td>HS-grad</td>\n",
       "      <td>9</td>\n",
       "      <td>Married-civ-spouse</td>\n",
       "      <td>Machine-op-inspct</td>\n",
       "      <td>Husband</td>\n",
       "      <td>White</td>\n",
       "      <td>Male</td>\n",
       "      <td>0</td>\n",
       "      <td>0</td>\n",
       "      <td>40</td>\n",
       "      <td>United-States</td>\n",
       "      <td>&gt;50K</td>\n",
       "    </tr>\n",
       "    <tr>\n",
       "      <th>32558</th>\n",
       "      <td>58</td>\n",
       "      <td>Private</td>\n",
       "      <td>151910</td>\n",
       "      <td>HS-grad</td>\n",
       "      <td>9</td>\n",
       "      <td>Widowed</td>\n",
       "      <td>Adm-clerical</td>\n",
       "      <td>Unmarried</td>\n",
       "      <td>White</td>\n",
       "      <td>Female</td>\n",
       "      <td>0</td>\n",
       "      <td>0</td>\n",
       "      <td>40</td>\n",
       "      <td>United-States</td>\n",
       "      <td>&lt;=50K</td>\n",
       "    </tr>\n",
       "    <tr>\n",
       "      <th>32559</th>\n",
       "      <td>22</td>\n",
       "      <td>Private</td>\n",
       "      <td>201490</td>\n",
       "      <td>HS-grad</td>\n",
       "      <td>9</td>\n",
       "      <td>Never-married</td>\n",
       "      <td>Adm-clerical</td>\n",
       "      <td>Own-child</td>\n",
       "      <td>White</td>\n",
       "      <td>Male</td>\n",
       "      <td>0</td>\n",
       "      <td>0</td>\n",
       "      <td>20</td>\n",
       "      <td>United-States</td>\n",
       "      <td>&lt;=50K</td>\n",
       "    </tr>\n",
       "    <tr>\n",
       "      <th>32560</th>\n",
       "      <td>52</td>\n",
       "      <td>Self-emp-inc</td>\n",
       "      <td>287927</td>\n",
       "      <td>HS-grad</td>\n",
       "      <td>9</td>\n",
       "      <td>Married-civ-spouse</td>\n",
       "      <td>Exec-managerial</td>\n",
       "      <td>Wife</td>\n",
       "      <td>White</td>\n",
       "      <td>Female</td>\n",
       "      <td>15024</td>\n",
       "      <td>0</td>\n",
       "      <td>40</td>\n",
       "      <td>United-States</td>\n",
       "      <td>&gt;50K</td>\n",
       "    </tr>\n",
       "  </tbody>\n",
       "</table>\n",
       "</div>"
      ],
      "text/plain": [
       "       Age      Workclass  fnlwgt    Education  Education_Num  \\\n",
       "32556   27        Private  257302   Assoc-acdm             12   \n",
       "32557   40        Private  154374      HS-grad              9   \n",
       "32558   58        Private  151910      HS-grad              9   \n",
       "32559   22        Private  201490      HS-grad              9   \n",
       "32560   52   Self-emp-inc  287927      HS-grad              9   \n",
       "\n",
       "            Martial_Status          Occupation Relationship    Race      Sex  \\\n",
       "32556   Married-civ-spouse        Tech-support         Wife   White   Female   \n",
       "32557   Married-civ-spouse   Machine-op-inspct      Husband   White     Male   \n",
       "32558              Widowed        Adm-clerical    Unmarried   White   Female   \n",
       "32559        Never-married        Adm-clerical    Own-child   White     Male   \n",
       "32560   Married-civ-spouse     Exec-managerial         Wife   White   Female   \n",
       "\n",
       "       Capital_Gain  Capital_Loss  Hours_per_week         Country  Target  \n",
       "32556             0             0              38   United-States   <=50K  \n",
       "32557             0             0              40   United-States    >50K  \n",
       "32558             0             0              40   United-States   <=50K  \n",
       "32559             0             0              20   United-States   <=50K  \n",
       "32560         15024             0              40   United-States    >50K  "
      ]
     },
     "execution_count": 4,
     "metadata": {},
     "output_type": "execute_result"
    }
   ],
   "source": [
    "df = pd.read_csv(DATA_PATH + \"adult_train.csv\", sep=\";\")\n",
    "df.tail()"
   ]
  },
  {
   "cell_type": "code",
   "execution_count": 5,
   "id": "028730ea-5be6-4db3-a69d-88e0db45860f",
   "metadata": {
    "tags": []
   },
   "outputs": [
    {
     "name": "stdout",
     "output_type": "stream",
     "text": [
      "<class 'pandas.core.frame.DataFrame'>\n",
      "RangeIndex: 32561 entries, 0 to 32560\n",
      "Data columns (total 12 columns):\n",
      " #   Column          Non-Null Count  Dtype \n",
      "---  ------          --------------  ----- \n",
      " 0   Age             32561 non-null  int64 \n",
      " 1   fnlwgt          32561 non-null  int64 \n",
      " 2   Education       32561 non-null  object\n",
      " 3   Education_Num   32561 non-null  int64 \n",
      " 4   Martial_Status  32561 non-null  object\n",
      " 5   Relationship    32561 non-null  object\n",
      " 6   Race            32561 non-null  object\n",
      " 7   Sex             32561 non-null  object\n",
      " 8   Capital_Gain    32561 non-null  int64 \n",
      " 9   Capital_Loss    32561 non-null  int64 \n",
      " 10  Hours_per_week  32561 non-null  int64 \n",
      " 11  Target          32561 non-null  object\n",
      "dtypes: int64(6), object(6)\n",
      "memory usage: 3.0+ MB\n"
     ]
    }
   ],
   "source": [
    "df.drop(columns=['Workclass', 'Occupation', 'Country'],inplace=True)\n",
    "df.info()"
   ]
  },
  {
   "cell_type": "code",
   "execution_count": 6,
   "id": "3ca5570a-27a0-4837-854b-5cfccfc52f05",
   "metadata": {
    "tags": []
   },
   "outputs": [
    {
     "data": {
      "text/plain": [
       "array([' <=50K', ' >50K'], dtype=object)"
      ]
     },
     "execution_count": 6,
     "metadata": {},
     "output_type": "execute_result"
    }
   ],
   "source": [
    "df['Target'].unique()"
   ]
  },
  {
   "cell_type": "code",
   "execution_count": 7,
   "id": "46290d72-7e87-4e85-84fb-fff1308577c8",
   "metadata": {
    "tags": []
   },
   "outputs": [
    {
     "data": {
      "text/html": [
       "<div>\n",
       "<style scoped>\n",
       "    .dataframe tbody tr th:only-of-type {\n",
       "        vertical-align: middle;\n",
       "    }\n",
       "\n",
       "    .dataframe tbody tr th {\n",
       "        vertical-align: top;\n",
       "    }\n",
       "\n",
       "    .dataframe thead th {\n",
       "        text-align: right;\n",
       "    }\n",
       "</style>\n",
       "<table border=\"1\" class=\"dataframe\">\n",
       "  <thead>\n",
       "    <tr style=\"text-align: right;\">\n",
       "      <th></th>\n",
       "      <th>Age</th>\n",
       "      <th>fnlwgt</th>\n",
       "      <th>Education</th>\n",
       "      <th>Education_Num</th>\n",
       "      <th>Martial_Status</th>\n",
       "      <th>Relationship</th>\n",
       "      <th>Race</th>\n",
       "      <th>Sex</th>\n",
       "      <th>Capital_Gain</th>\n",
       "      <th>Capital_Loss</th>\n",
       "      <th>Hours_per_week</th>\n",
       "      <th>Target</th>\n",
       "      <th>TargetNew</th>\n",
       "    </tr>\n",
       "  </thead>\n",
       "  <tbody>\n",
       "    <tr>\n",
       "      <th>0</th>\n",
       "      <td>39</td>\n",
       "      <td>77516</td>\n",
       "      <td>Bachelors</td>\n",
       "      <td>13</td>\n",
       "      <td>Never-married</td>\n",
       "      <td>Not-in-family</td>\n",
       "      <td>White</td>\n",
       "      <td>Male</td>\n",
       "      <td>2174</td>\n",
       "      <td>0</td>\n",
       "      <td>40</td>\n",
       "      <td>&lt;=50K</td>\n",
       "      <td>0</td>\n",
       "    </tr>\n",
       "    <tr>\n",
       "      <th>1</th>\n",
       "      <td>50</td>\n",
       "      <td>83311</td>\n",
       "      <td>Bachelors</td>\n",
       "      <td>13</td>\n",
       "      <td>Married-civ-spouse</td>\n",
       "      <td>Husband</td>\n",
       "      <td>White</td>\n",
       "      <td>Male</td>\n",
       "      <td>0</td>\n",
       "      <td>0</td>\n",
       "      <td>13</td>\n",
       "      <td>&lt;=50K</td>\n",
       "      <td>0</td>\n",
       "    </tr>\n",
       "    <tr>\n",
       "      <th>2</th>\n",
       "      <td>38</td>\n",
       "      <td>215646</td>\n",
       "      <td>HS-grad</td>\n",
       "      <td>9</td>\n",
       "      <td>Divorced</td>\n",
       "      <td>Not-in-family</td>\n",
       "      <td>White</td>\n",
       "      <td>Male</td>\n",
       "      <td>0</td>\n",
       "      <td>0</td>\n",
       "      <td>40</td>\n",
       "      <td>&lt;=50K</td>\n",
       "      <td>0</td>\n",
       "    </tr>\n",
       "    <tr>\n",
       "      <th>3</th>\n",
       "      <td>53</td>\n",
       "      <td>234721</td>\n",
       "      <td>11th</td>\n",
       "      <td>7</td>\n",
       "      <td>Married-civ-spouse</td>\n",
       "      <td>Husband</td>\n",
       "      <td>Black</td>\n",
       "      <td>Male</td>\n",
       "      <td>0</td>\n",
       "      <td>0</td>\n",
       "      <td>40</td>\n",
       "      <td>&lt;=50K</td>\n",
       "      <td>0</td>\n",
       "    </tr>\n",
       "    <tr>\n",
       "      <th>4</th>\n",
       "      <td>28</td>\n",
       "      <td>338409</td>\n",
       "      <td>Bachelors</td>\n",
       "      <td>13</td>\n",
       "      <td>Married-civ-spouse</td>\n",
       "      <td>Wife</td>\n",
       "      <td>Black</td>\n",
       "      <td>Female</td>\n",
       "      <td>0</td>\n",
       "      <td>0</td>\n",
       "      <td>40</td>\n",
       "      <td>&lt;=50K</td>\n",
       "      <td>0</td>\n",
       "    </tr>\n",
       "    <tr>\n",
       "      <th>...</th>\n",
       "      <td>...</td>\n",
       "      <td>...</td>\n",
       "      <td>...</td>\n",
       "      <td>...</td>\n",
       "      <td>...</td>\n",
       "      <td>...</td>\n",
       "      <td>...</td>\n",
       "      <td>...</td>\n",
       "      <td>...</td>\n",
       "      <td>...</td>\n",
       "      <td>...</td>\n",
       "      <td>...</td>\n",
       "      <td>...</td>\n",
       "    </tr>\n",
       "    <tr>\n",
       "      <th>32556</th>\n",
       "      <td>27</td>\n",
       "      <td>257302</td>\n",
       "      <td>Assoc-acdm</td>\n",
       "      <td>12</td>\n",
       "      <td>Married-civ-spouse</td>\n",
       "      <td>Wife</td>\n",
       "      <td>White</td>\n",
       "      <td>Female</td>\n",
       "      <td>0</td>\n",
       "      <td>0</td>\n",
       "      <td>38</td>\n",
       "      <td>&lt;=50K</td>\n",
       "      <td>0</td>\n",
       "    </tr>\n",
       "    <tr>\n",
       "      <th>32557</th>\n",
       "      <td>40</td>\n",
       "      <td>154374</td>\n",
       "      <td>HS-grad</td>\n",
       "      <td>9</td>\n",
       "      <td>Married-civ-spouse</td>\n",
       "      <td>Husband</td>\n",
       "      <td>White</td>\n",
       "      <td>Male</td>\n",
       "      <td>0</td>\n",
       "      <td>0</td>\n",
       "      <td>40</td>\n",
       "      <td>&gt;50K</td>\n",
       "      <td>1</td>\n",
       "    </tr>\n",
       "    <tr>\n",
       "      <th>32558</th>\n",
       "      <td>58</td>\n",
       "      <td>151910</td>\n",
       "      <td>HS-grad</td>\n",
       "      <td>9</td>\n",
       "      <td>Widowed</td>\n",
       "      <td>Unmarried</td>\n",
       "      <td>White</td>\n",
       "      <td>Female</td>\n",
       "      <td>0</td>\n",
       "      <td>0</td>\n",
       "      <td>40</td>\n",
       "      <td>&lt;=50K</td>\n",
       "      <td>0</td>\n",
       "    </tr>\n",
       "    <tr>\n",
       "      <th>32559</th>\n",
       "      <td>22</td>\n",
       "      <td>201490</td>\n",
       "      <td>HS-grad</td>\n",
       "      <td>9</td>\n",
       "      <td>Never-married</td>\n",
       "      <td>Own-child</td>\n",
       "      <td>White</td>\n",
       "      <td>Male</td>\n",
       "      <td>0</td>\n",
       "      <td>0</td>\n",
       "      <td>20</td>\n",
       "      <td>&lt;=50K</td>\n",
       "      <td>0</td>\n",
       "    </tr>\n",
       "    <tr>\n",
       "      <th>32560</th>\n",
       "      <td>52</td>\n",
       "      <td>287927</td>\n",
       "      <td>HS-grad</td>\n",
       "      <td>9</td>\n",
       "      <td>Married-civ-spouse</td>\n",
       "      <td>Wife</td>\n",
       "      <td>White</td>\n",
       "      <td>Female</td>\n",
       "      <td>15024</td>\n",
       "      <td>0</td>\n",
       "      <td>40</td>\n",
       "      <td>&gt;50K</td>\n",
       "      <td>1</td>\n",
       "    </tr>\n",
       "  </tbody>\n",
       "</table>\n",
       "<p>32561 rows × 13 columns</p>\n",
       "</div>"
      ],
      "text/plain": [
       "       Age  fnlwgt    Education  Education_Num       Martial_Status  \\\n",
       "0       39   77516    Bachelors             13        Never-married   \n",
       "1       50   83311    Bachelors             13   Married-civ-spouse   \n",
       "2       38  215646      HS-grad              9             Divorced   \n",
       "3       53  234721         11th              7   Married-civ-spouse   \n",
       "4       28  338409    Bachelors             13   Married-civ-spouse   \n",
       "...    ...     ...          ...            ...                  ...   \n",
       "32556   27  257302   Assoc-acdm             12   Married-civ-spouse   \n",
       "32557   40  154374      HS-grad              9   Married-civ-spouse   \n",
       "32558   58  151910      HS-grad              9              Widowed   \n",
       "32559   22  201490      HS-grad              9        Never-married   \n",
       "32560   52  287927      HS-grad              9   Married-civ-spouse   \n",
       "\n",
       "         Relationship    Race      Sex  Capital_Gain  Capital_Loss  \\\n",
       "0       Not-in-family   White     Male          2174             0   \n",
       "1             Husband   White     Male             0             0   \n",
       "2       Not-in-family   White     Male             0             0   \n",
       "3             Husband   Black     Male             0             0   \n",
       "4                Wife   Black   Female             0             0   \n",
       "...               ...     ...      ...           ...           ...   \n",
       "32556            Wife   White   Female             0             0   \n",
       "32557         Husband   White     Male             0             0   \n",
       "32558       Unmarried   White   Female             0             0   \n",
       "32559       Own-child   White     Male             0             0   \n",
       "32560            Wife   White   Female         15024             0   \n",
       "\n",
       "       Hours_per_week  Target  TargetNew  \n",
       "0                  40   <=50K          0  \n",
       "1                  13   <=50K          0  \n",
       "2                  40   <=50K          0  \n",
       "3                  40   <=50K          0  \n",
       "4                  40   <=50K          0  \n",
       "...               ...     ...        ...  \n",
       "32556              38   <=50K          0  \n",
       "32557              40    >50K          1  \n",
       "32558              40   <=50K          0  \n",
       "32559              20   <=50K          0  \n",
       "32560              40    >50K          1  \n",
       "\n",
       "[32561 rows x 13 columns]"
      ]
     },
     "execution_count": 7,
     "metadata": {},
     "output_type": "execute_result"
    }
   ],
   "source": [
    "df['TargetNew'] = df['Target'].map({' <=50K':0, ' >50K':1 })\n",
    "df"
   ]
  },
  {
   "cell_type": "code",
   "execution_count": 16,
   "id": "37829ac1-3b2c-465a-8843-efa37653868f",
   "metadata": {
    "tags": []
   },
   "outputs": [],
   "source": [
    "import sklearn.tree as tree\n",
    "from sklearn.ensemble import RandomForestClassifier\n",
    "\n",
    "featureNames = ['Age', 'Education_Num','Hours_per_week']\n",
    "\n",
    "x = np.array(df[featureNames])\n",
    "y = np.array(df['TargetNew'])\n"
   ]
  },
  {
   "cell_type": "code",
   "execution_count": 19,
   "id": "e76a66c3-f0c1-4b9e-90e9-bcbf0d213de7",
   "metadata": {
    "tags": []
   },
   "outputs": [],
   "source": [
    "from sklearn.model_selection import train_test_split\n",
    "\n",
    "x_train, x_test, y_train, y_test = train_test_split(x,y,test_size=0.2)\n",
    "\n"
   ]
  },
  {
   "cell_type": "code",
   "execution_count": 20,
   "id": "784f0cff-0e45-4ef5-8493-0e7267bdb35a",
   "metadata": {
    "tags": []
   },
   "outputs": [
    {
     "data": {
      "text/html": [
       "<style>#sk-container-id-2 {color: black;}#sk-container-id-2 pre{padding: 0;}#sk-container-id-2 div.sk-toggleable {background-color: white;}#sk-container-id-2 label.sk-toggleable__label {cursor: pointer;display: block;width: 100%;margin-bottom: 0;padding: 0.3em;box-sizing: border-box;text-align: center;}#sk-container-id-2 label.sk-toggleable__label-arrow:before {content: \"▸\";float: left;margin-right: 0.25em;color: #696969;}#sk-container-id-2 label.sk-toggleable__label-arrow:hover:before {color: black;}#sk-container-id-2 div.sk-estimator:hover label.sk-toggleable__label-arrow:before {color: black;}#sk-container-id-2 div.sk-toggleable__content {max-height: 0;max-width: 0;overflow: hidden;text-align: left;background-color: #f0f8ff;}#sk-container-id-2 div.sk-toggleable__content pre {margin: 0.2em;color: black;border-radius: 0.25em;background-color: #f0f8ff;}#sk-container-id-2 input.sk-toggleable__control:checked~div.sk-toggleable__content {max-height: 200px;max-width: 100%;overflow: auto;}#sk-container-id-2 input.sk-toggleable__control:checked~label.sk-toggleable__label-arrow:before {content: \"▾\";}#sk-container-id-2 div.sk-estimator input.sk-toggleable__control:checked~label.sk-toggleable__label {background-color: #d4ebff;}#sk-container-id-2 div.sk-label input.sk-toggleable__control:checked~label.sk-toggleable__label {background-color: #d4ebff;}#sk-container-id-2 input.sk-hidden--visually {border: 0;clip: rect(1px 1px 1px 1px);clip: rect(1px, 1px, 1px, 1px);height: 1px;margin: -1px;overflow: hidden;padding: 0;position: absolute;width: 1px;}#sk-container-id-2 div.sk-estimator {font-family: monospace;background-color: #f0f8ff;border: 1px dotted black;border-radius: 0.25em;box-sizing: border-box;margin-bottom: 0.5em;}#sk-container-id-2 div.sk-estimator:hover {background-color: #d4ebff;}#sk-container-id-2 div.sk-parallel-item::after {content: \"\";width: 100%;border-bottom: 1px solid gray;flex-grow: 1;}#sk-container-id-2 div.sk-label:hover label.sk-toggleable__label {background-color: #d4ebff;}#sk-container-id-2 div.sk-serial::before {content: \"\";position: absolute;border-left: 1px solid gray;box-sizing: border-box;top: 0;bottom: 0;left: 50%;z-index: 0;}#sk-container-id-2 div.sk-serial {display: flex;flex-direction: column;align-items: center;background-color: white;padding-right: 0.2em;padding-left: 0.2em;position: relative;}#sk-container-id-2 div.sk-item {position: relative;z-index: 1;}#sk-container-id-2 div.sk-parallel {display: flex;align-items: stretch;justify-content: center;background-color: white;position: relative;}#sk-container-id-2 div.sk-item::before, #sk-container-id-2 div.sk-parallel-item::before {content: \"\";position: absolute;border-left: 1px solid gray;box-sizing: border-box;top: 0;bottom: 0;left: 50%;z-index: -1;}#sk-container-id-2 div.sk-parallel-item {display: flex;flex-direction: column;z-index: 1;position: relative;background-color: white;}#sk-container-id-2 div.sk-parallel-item:first-child::after {align-self: flex-end;width: 50%;}#sk-container-id-2 div.sk-parallel-item:last-child::after {align-self: flex-start;width: 50%;}#sk-container-id-2 div.sk-parallel-item:only-child::after {width: 0;}#sk-container-id-2 div.sk-dashed-wrapped {border: 1px dashed gray;margin: 0 0.4em 0.5em 0.4em;box-sizing: border-box;padding-bottom: 0.4em;background-color: white;}#sk-container-id-2 div.sk-label label {font-family: monospace;font-weight: bold;display: inline-block;line-height: 1.2em;}#sk-container-id-2 div.sk-label-container {text-align: center;}#sk-container-id-2 div.sk-container {/* jupyter's `normalize.less` sets `[hidden] { display: none; }` but bootstrap.min.css set `[hidden] { display: none !important; }` so we also need the `!important` here to be able to override the default hidden behavior on the sphinx rendered scikit-learn.org. See: https://github.com/scikit-learn/scikit-learn/issues/21755 */display: inline-block !important;position: relative;}#sk-container-id-2 div.sk-text-repr-fallback {display: none;}</style><div id=\"sk-container-id-2\" class=\"sk-top-container\"><div class=\"sk-text-repr-fallback\"><pre>RandomForestClassifier()</pre><b>In a Jupyter environment, please rerun this cell to show the HTML representation or trust the notebook. <br />On GitHub, the HTML representation is unable to render, please try loading this page with nbviewer.org.</b></div><div class=\"sk-container\" hidden><div class=\"sk-item\"><div class=\"sk-estimator sk-toggleable\"><input class=\"sk-toggleable__control sk-hidden--visually\" id=\"sk-estimator-id-2\" type=\"checkbox\" checked><label for=\"sk-estimator-id-2\" class=\"sk-toggleable__label sk-toggleable__label-arrow\">RandomForestClassifier</label><div class=\"sk-toggleable__content\"><pre>RandomForestClassifier()</pre></div></div></div></div></div>"
      ],
      "text/plain": [
       "RandomForestClassifier()"
      ]
     },
     "execution_count": 20,
     "metadata": {},
     "output_type": "execute_result"
    }
   ],
   "source": [
    "forest = RandomForestClassifier()\n",
    "forest.fit(x_train,y_train)"
   ]
  },
  {
   "cell_type": "code",
   "execution_count": 21,
   "id": "30c690e0-992b-40c1-84f6-77f9912ec365",
   "metadata": {
    "tags": []
   },
   "outputs": [],
   "source": [
    "y_train_predict = forest.predict(x_train)"
   ]
  },
  {
   "cell_type": "code",
   "execution_count": 22,
   "id": "1d9f9fdb-884a-4b44-b73d-77038e691d91",
   "metadata": {
    "tags": []
   },
   "outputs": [],
   "source": [
    "import seaborn as sns\n",
    "from sklearn.metrics import confusion_matrix\n",
    "from sklearn.metrics import accuracy_score"
   ]
  },
  {
   "cell_type": "code",
   "execution_count": 23,
   "id": "2ab87c91-aa0c-4d18-9d58-ef0c763b7150",
   "metadata": {
    "tags": []
   },
   "outputs": [
    {
     "data": {
      "text/plain": [
       "array([[18712,  1112],\n",
       "       [ 2787,  3437]], dtype=int64)"
      ]
     },
     "execution_count": 23,
     "metadata": {},
     "output_type": "execute_result"
    }
   ],
   "source": [
    "confusion_matrix(y_train,y_train_predict)"
   ]
  },
  {
   "cell_type": "code",
   "execution_count": 25,
   "id": "2e7de4e7-a468-4b09-a27e-0eb3adb66a73",
   "metadata": {
    "tags": []
   },
   "outputs": [
    {
     "data": {
      "text/plain": [
       "0.8503148034398035"
      ]
     },
     "execution_count": 25,
     "metadata": {},
     "output_type": "execute_result"
    }
   ],
   "source": [
    "accuracy_score(y_train,y_train_predict)"
   ]
  },
  {
   "cell_type": "code",
   "execution_count": 26,
   "id": "5f5a5bae-b03e-4eba-982a-b82c5eca0c3a",
   "metadata": {
    "tags": []
   },
   "outputs": [
    {
     "data": {
      "text/plain": [
       "0.769998464609243"
      ]
     },
     "execution_count": 26,
     "metadata": {},
     "output_type": "execute_result"
    }
   ],
   "source": [
    "# validation data\n",
    "y_test_predict = forest.predict(x_test)\n",
    "accuracy_score(y_test,y_test_predict)\n"
   ]
  },
  {
   "cell_type": "markdown",
   "id": "b4f6117a-5652-4760-9e5e-f7622bbe1f9d",
   "metadata": {},
   "source": [
    "# Parameter tuning with Sklearn"
   ]
  },
  {
   "cell_type": "code",
   "execution_count": 29,
   "id": "0e4b415a-2388-42bc-9575-ade74879b107",
   "metadata": {},
   "outputs": [
    {
     "ename": "ValueError",
     "evalue": "\nAll the 5 fits failed.\nIt is very likely that your model is misconfigured.\nYou can try to debug the error by setting error_score='raise'.\n\nBelow are more details about the failures:\n--------------------------------------------------------------------------------\n5 fits failed with the following error:\nTraceback (most recent call last):\n  File \"C:\\Users\\sneh.lata\\Anaconda3\\envs\\randomForest\\lib\\site-packages\\sklearn\\model_selection\\_validation.py\", line 732, in _fit_and_score\n    estimator.fit(X_train, y_train, **fit_params)\n  File \"C:\\Users\\sneh.lata\\Anaconda3\\envs\\randomForest\\lib\\site-packages\\sklearn\\base.py\", line 1144, in wrapper\n    estimator._validate_params()\n  File \"C:\\Users\\sneh.lata\\Anaconda3\\envs\\randomForest\\lib\\site-packages\\sklearn\\base.py\", line 637, in _validate_params\n    validate_parameter_constraints(\n  File \"C:\\Users\\sneh.lata\\Anaconda3\\envs\\randomForest\\lib\\site-packages\\sklearn\\utils\\_param_validation.py\", line 95, in validate_parameter_constraints\n    raise InvalidParameterError(\nsklearn.utils._param_validation.InvalidParameterError: The 'min_samples_leaf' parameter of RandomForestClassifier must be an int in the range [1, inf) or a float in the range (0.0, 1.0). Got [7, 14] instead.\n",
     "output_type": "error",
     "traceback": [
      "\u001b[1;31m---------------------------------------------------------------------------\u001b[0m",
      "\u001b[1;31mValueError\u001b[0m                                Traceback (most recent call last)",
      "Cell \u001b[1;32mIn[29], line 11\u001b[0m\n\u001b[0;32m      9\u001b[0m dt \u001b[38;5;241m=\u001b[39m RandomForestClassifier()\n\u001b[0;32m     10\u001b[0m gs \u001b[38;5;241m=\u001b[39m GridSearchCV(estimator\u001b[38;5;241m=\u001b[39mdt, param_grid\u001b[38;5;241m=\u001b[39mparam_grid)\n\u001b[1;32m---> 11\u001b[0m result \u001b[38;5;241m=\u001b[39m \u001b[43mgs\u001b[49m\u001b[38;5;241;43m.\u001b[39;49m\u001b[43mfit\u001b[49m\u001b[43m(\u001b[49m\u001b[43mx_train\u001b[49m\u001b[43m,\u001b[49m\u001b[43my_train\u001b[49m\u001b[43m)\u001b[49m\n",
      "File \u001b[1;32m~\\Anaconda3\\envs\\randomForest\\lib\\site-packages\\sklearn\\base.py:1151\u001b[0m, in \u001b[0;36m_fit_context.<locals>.decorator.<locals>.wrapper\u001b[1;34m(estimator, *args, **kwargs)\u001b[0m\n\u001b[0;32m   1144\u001b[0m     estimator\u001b[38;5;241m.\u001b[39m_validate_params()\n\u001b[0;32m   1146\u001b[0m \u001b[38;5;28;01mwith\u001b[39;00m config_context(\n\u001b[0;32m   1147\u001b[0m     skip_parameter_validation\u001b[38;5;241m=\u001b[39m(\n\u001b[0;32m   1148\u001b[0m         prefer_skip_nested_validation \u001b[38;5;129;01mor\u001b[39;00m global_skip_validation\n\u001b[0;32m   1149\u001b[0m     )\n\u001b[0;32m   1150\u001b[0m ):\n\u001b[1;32m-> 1151\u001b[0m     \u001b[38;5;28;01mreturn\u001b[39;00m fit_method(estimator, \u001b[38;5;241m*\u001b[39margs, \u001b[38;5;241m*\u001b[39m\u001b[38;5;241m*\u001b[39mkwargs)\n",
      "File \u001b[1;32m~\\Anaconda3\\envs\\randomForest\\lib\\site-packages\\sklearn\\model_selection\\_search.py:898\u001b[0m, in \u001b[0;36mBaseSearchCV.fit\u001b[1;34m(self, X, y, groups, **fit_params)\u001b[0m\n\u001b[0;32m    892\u001b[0m     results \u001b[38;5;241m=\u001b[39m \u001b[38;5;28mself\u001b[39m\u001b[38;5;241m.\u001b[39m_format_results(\n\u001b[0;32m    893\u001b[0m         all_candidate_params, n_splits, all_out, all_more_results\n\u001b[0;32m    894\u001b[0m     )\n\u001b[0;32m    896\u001b[0m     \u001b[38;5;28;01mreturn\u001b[39;00m results\n\u001b[1;32m--> 898\u001b[0m \u001b[38;5;28;43mself\u001b[39;49m\u001b[38;5;241;43m.\u001b[39;49m\u001b[43m_run_search\u001b[49m\u001b[43m(\u001b[49m\u001b[43mevaluate_candidates\u001b[49m\u001b[43m)\u001b[49m\n\u001b[0;32m    900\u001b[0m \u001b[38;5;66;03m# multimetric is determined here because in the case of a callable\u001b[39;00m\n\u001b[0;32m    901\u001b[0m \u001b[38;5;66;03m# self.scoring the return type is only known after calling\u001b[39;00m\n\u001b[0;32m    902\u001b[0m first_test_score \u001b[38;5;241m=\u001b[39m all_out[\u001b[38;5;241m0\u001b[39m][\u001b[38;5;124m\"\u001b[39m\u001b[38;5;124mtest_scores\u001b[39m\u001b[38;5;124m\"\u001b[39m]\n",
      "File \u001b[1;32m~\\Anaconda3\\envs\\randomForest\\lib\\site-packages\\sklearn\\model_selection\\_search.py:1419\u001b[0m, in \u001b[0;36mGridSearchCV._run_search\u001b[1;34m(self, evaluate_candidates)\u001b[0m\n\u001b[0;32m   1417\u001b[0m \u001b[38;5;28;01mdef\u001b[39;00m \u001b[38;5;21m_run_search\u001b[39m(\u001b[38;5;28mself\u001b[39m, evaluate_candidates):\n\u001b[0;32m   1418\u001b[0m \u001b[38;5;250m    \u001b[39m\u001b[38;5;124;03m\"\"\"Search all candidates in param_grid\"\"\"\u001b[39;00m\n\u001b[1;32m-> 1419\u001b[0m     \u001b[43mevaluate_candidates\u001b[49m\u001b[43m(\u001b[49m\u001b[43mParameterGrid\u001b[49m\u001b[43m(\u001b[49m\u001b[38;5;28;43mself\u001b[39;49m\u001b[38;5;241;43m.\u001b[39;49m\u001b[43mparam_grid\u001b[49m\u001b[43m)\u001b[49m\u001b[43m)\u001b[49m\n",
      "File \u001b[1;32m~\\Anaconda3\\envs\\randomForest\\lib\\site-packages\\sklearn\\model_selection\\_search.py:875\u001b[0m, in \u001b[0;36mBaseSearchCV.fit.<locals>.evaluate_candidates\u001b[1;34m(candidate_params, cv, more_results)\u001b[0m\n\u001b[0;32m    868\u001b[0m \u001b[38;5;28;01melif\u001b[39;00m \u001b[38;5;28mlen\u001b[39m(out) \u001b[38;5;241m!=\u001b[39m n_candidates \u001b[38;5;241m*\u001b[39m n_splits:\n\u001b[0;32m    869\u001b[0m     \u001b[38;5;28;01mraise\u001b[39;00m \u001b[38;5;167;01mValueError\u001b[39;00m(\n\u001b[0;32m    870\u001b[0m         \u001b[38;5;124m\"\u001b[39m\u001b[38;5;124mcv.split and cv.get_n_splits returned \u001b[39m\u001b[38;5;124m\"\u001b[39m\n\u001b[0;32m    871\u001b[0m         \u001b[38;5;124m\"\u001b[39m\u001b[38;5;124minconsistent results. Expected \u001b[39m\u001b[38;5;132;01m{}\u001b[39;00m\u001b[38;5;124m \u001b[39m\u001b[38;5;124m\"\u001b[39m\n\u001b[0;32m    872\u001b[0m         \u001b[38;5;124m\"\u001b[39m\u001b[38;5;124msplits, got \u001b[39m\u001b[38;5;132;01m{}\u001b[39;00m\u001b[38;5;124m\"\u001b[39m\u001b[38;5;241m.\u001b[39mformat(n_splits, \u001b[38;5;28mlen\u001b[39m(out) \u001b[38;5;241m/\u001b[39m\u001b[38;5;241m/\u001b[39m n_candidates)\n\u001b[0;32m    873\u001b[0m     )\n\u001b[1;32m--> 875\u001b[0m \u001b[43m_warn_or_raise_about_fit_failures\u001b[49m\u001b[43m(\u001b[49m\u001b[43mout\u001b[49m\u001b[43m,\u001b[49m\u001b[43m \u001b[49m\u001b[38;5;28;43mself\u001b[39;49m\u001b[38;5;241;43m.\u001b[39;49m\u001b[43merror_score\u001b[49m\u001b[43m)\u001b[49m\n\u001b[0;32m    877\u001b[0m \u001b[38;5;66;03m# For callable self.scoring, the return type is only know after\u001b[39;00m\n\u001b[0;32m    878\u001b[0m \u001b[38;5;66;03m# calling. If the return type is a dictionary, the error scores\u001b[39;00m\n\u001b[0;32m    879\u001b[0m \u001b[38;5;66;03m# can now be inserted with the correct key. The type checking\u001b[39;00m\n\u001b[0;32m    880\u001b[0m \u001b[38;5;66;03m# of out will be done in `_insert_error_scores`.\u001b[39;00m\n\u001b[0;32m    881\u001b[0m \u001b[38;5;28;01mif\u001b[39;00m \u001b[38;5;28mcallable\u001b[39m(\u001b[38;5;28mself\u001b[39m\u001b[38;5;241m.\u001b[39mscoring):\n",
      "File \u001b[1;32m~\\Anaconda3\\envs\\randomForest\\lib\\site-packages\\sklearn\\model_selection\\_validation.py:414\u001b[0m, in \u001b[0;36m_warn_or_raise_about_fit_failures\u001b[1;34m(results, error_score)\u001b[0m\n\u001b[0;32m    407\u001b[0m \u001b[38;5;28;01mif\u001b[39;00m num_failed_fits \u001b[38;5;241m==\u001b[39m num_fits:\n\u001b[0;32m    408\u001b[0m     all_fits_failed_message \u001b[38;5;241m=\u001b[39m (\n\u001b[0;32m    409\u001b[0m         \u001b[38;5;124mf\u001b[39m\u001b[38;5;124m\"\u001b[39m\u001b[38;5;130;01m\\n\u001b[39;00m\u001b[38;5;124mAll the \u001b[39m\u001b[38;5;132;01m{\u001b[39;00mnum_fits\u001b[38;5;132;01m}\u001b[39;00m\u001b[38;5;124m fits failed.\u001b[39m\u001b[38;5;130;01m\\n\u001b[39;00m\u001b[38;5;124m\"\u001b[39m\n\u001b[0;32m    410\u001b[0m         \u001b[38;5;124m\"\u001b[39m\u001b[38;5;124mIt is very likely that your model is misconfigured.\u001b[39m\u001b[38;5;130;01m\\n\u001b[39;00m\u001b[38;5;124m\"\u001b[39m\n\u001b[0;32m    411\u001b[0m         \u001b[38;5;124m\"\u001b[39m\u001b[38;5;124mYou can try to debug the error by setting error_score=\u001b[39m\u001b[38;5;124m'\u001b[39m\u001b[38;5;124mraise\u001b[39m\u001b[38;5;124m'\u001b[39m\u001b[38;5;124m.\u001b[39m\u001b[38;5;130;01m\\n\u001b[39;00m\u001b[38;5;130;01m\\n\u001b[39;00m\u001b[38;5;124m\"\u001b[39m\n\u001b[0;32m    412\u001b[0m         \u001b[38;5;124mf\u001b[39m\u001b[38;5;124m\"\u001b[39m\u001b[38;5;124mBelow are more details about the failures:\u001b[39m\u001b[38;5;130;01m\\n\u001b[39;00m\u001b[38;5;132;01m{\u001b[39;00mfit_errors_summary\u001b[38;5;132;01m}\u001b[39;00m\u001b[38;5;124m\"\u001b[39m\n\u001b[0;32m    413\u001b[0m     )\n\u001b[1;32m--> 414\u001b[0m     \u001b[38;5;28;01mraise\u001b[39;00m \u001b[38;5;167;01mValueError\u001b[39;00m(all_fits_failed_message)\n\u001b[0;32m    416\u001b[0m \u001b[38;5;28;01melse\u001b[39;00m:\n\u001b[0;32m    417\u001b[0m     some_fits_failed_message \u001b[38;5;241m=\u001b[39m (\n\u001b[0;32m    418\u001b[0m         \u001b[38;5;124mf\u001b[39m\u001b[38;5;124m\"\u001b[39m\u001b[38;5;130;01m\\n\u001b[39;00m\u001b[38;5;132;01m{\u001b[39;00mnum_failed_fits\u001b[38;5;132;01m}\u001b[39;00m\u001b[38;5;124m fits failed out of a total of \u001b[39m\u001b[38;5;132;01m{\u001b[39;00mnum_fits\u001b[38;5;132;01m}\u001b[39;00m\u001b[38;5;124m.\u001b[39m\u001b[38;5;130;01m\\n\u001b[39;00m\u001b[38;5;124m\"\u001b[39m\n\u001b[0;32m    419\u001b[0m         \u001b[38;5;124m\"\u001b[39m\u001b[38;5;124mThe score on these train-test partitions for these parameters\u001b[39m\u001b[38;5;124m\"\u001b[39m\n\u001b[1;32m   (...)\u001b[0m\n\u001b[0;32m    423\u001b[0m         \u001b[38;5;124mf\u001b[39m\u001b[38;5;124m\"\u001b[39m\u001b[38;5;124mBelow are more details about the failures:\u001b[39m\u001b[38;5;130;01m\\n\u001b[39;00m\u001b[38;5;132;01m{\u001b[39;00mfit_errors_summary\u001b[38;5;132;01m}\u001b[39;00m\u001b[38;5;124m\"\u001b[39m\n\u001b[0;32m    424\u001b[0m     )\n",
      "\u001b[1;31mValueError\u001b[0m: \nAll the 5 fits failed.\nIt is very likely that your model is misconfigured.\nYou can try to debug the error by setting error_score='raise'.\n\nBelow are more details about the failures:\n--------------------------------------------------------------------------------\n5 fits failed with the following error:\nTraceback (most recent call last):\n  File \"C:\\Users\\sneh.lata\\Anaconda3\\envs\\randomForest\\lib\\site-packages\\sklearn\\model_selection\\_validation.py\", line 732, in _fit_and_score\n    estimator.fit(X_train, y_train, **fit_params)\n  File \"C:\\Users\\sneh.lata\\Anaconda3\\envs\\randomForest\\lib\\site-packages\\sklearn\\base.py\", line 1144, in wrapper\n    estimator._validate_params()\n  File \"C:\\Users\\sneh.lata\\Anaconda3\\envs\\randomForest\\lib\\site-packages\\sklearn\\base.py\", line 637, in _validate_params\n    validate_parameter_constraints(\n  File \"C:\\Users\\sneh.lata\\Anaconda3\\envs\\randomForest\\lib\\site-packages\\sklearn\\utils\\_param_validation.py\", line 95, in validate_parameter_constraints\n    raise InvalidParameterError(\nsklearn.utils._param_validation.InvalidParameterError: The 'min_samples_leaf' parameter of RandomForestClassifier must be an int in the range [1, inf) or a float in the range (0.0, 1.0). Got [7, 14] instead.\n"
     ]
    }
   ],
   "source": [
    "from sklearn.model_selection import GridSearchCV\n",
    "\n",
    "#max_depth=None,\n",
    "min_samples_split=[2,4,8],\n",
    "min_samples_leaf=[7,14],\n",
    "\n",
    "param_grid = {'min_samples_split':min_samples_split, 'min_samples_leaf':min_samples_leaf }\n",
    "\n",
    "dt = RandomForestClassifier()\n",
    "gs = GridSearchCV(estimator=dt, param_grid=param_grid)\n",
    "result = gs.fit(x_train,y_train)"
   ]
  },
  {
   "cell_type": "code",
   "execution_count": 95,
   "id": "02c4864c-8d20-4397-8ddf-bc5b7bf8ab49",
   "metadata": {
    "tags": []
   },
   "outputs": [
    {
     "data": {
      "text/plain": [
       "{'mean_fit_time': array([0.01665359, 0.01043415, 0.01076336, 0.01051855, 0.01077938,\n",
       "        0.00740933, 0.01020331, 0.010115  , 0.01139741, 0.01106901,\n",
       "        0.00799441, 0.0100172 , 0.01032076, 0.01146455, 0.01048207]),\n",
       " 'std_fit_time': array([0.00608787, 0.00143099, 0.00123248, 0.00104153, 0.00074699,\n",
       "        0.00080206, 0.00147898, 0.00102573, 0.00184552, 0.00211052,\n",
       "        0.00109601, 0.00128223, 0.001358  , 0.00109565, 0.0004266 ]),\n",
       " 'mean_score_time': array([0.0044035 , 0.00100546, 0.00119963, 0.0012032 , 0.00120645,\n",
       "        0.00110703, 0.0015934 , 0.00100055, 0.00140333, 0.00152087,\n",
       "        0.00110693, 0.00140252, 0.00141358, 0.0012845 , 0.00122004]),\n",
       " 'std_score_time': array([2.25292055e-03, 1.90376900e-06, 3.89863314e-04, 3.97850008e-04,\n",
       "        3.96002434e-04, 2.03677765e-04, 1.19004907e-03, 4.48226929e-06,\n",
       "        4.89522220e-04, 4.89428990e-04, 2.01617408e-04, 4.88600975e-04,\n",
       "        4.79950943e-04, 5.48481112e-04, 4.00924399e-04]),\n",
       " 'param_max_depth': masked_array(data=[6, 6, 6, 6, 6, 12, 12, 12, 12, 12, 18, 18, 18, 18, 18],\n",
       "              mask=[False, False, False, False, False, False, False, False,\n",
       "                    False, False, False, False, False, False, False],\n",
       "        fill_value='?',\n",
       "             dtype=object),\n",
       " 'param_max_leaf_nodes': masked_array(data=[8, 16, 24, 32, 40, 8, 16, 24, 32, 40, 8, 16, 24, 32,\n",
       "                    40],\n",
       "              mask=[False, False, False, False, False, False, False, False,\n",
       "                    False, False, False, False, False, False, False],\n",
       "        fill_value='?',\n",
       "             dtype=object),\n",
       " 'param_min_impurity_decrease': masked_array(data=[0.0001, 0.0001, 0.0001, 0.0001, 0.0001, 0.0001, 0.0001,\n",
       "                    0.0001, 0.0001, 0.0001, 0.0001, 0.0001, 0.0001, 0.0001,\n",
       "                    0.0001],\n",
       "              mask=[False, False, False, False, False, False, False, False,\n",
       "                    False, False, False, False, False, False, False],\n",
       "        fill_value='?',\n",
       "             dtype=object),\n",
       " 'params': [{'max_depth': 6,\n",
       "   'max_leaf_nodes': 8,\n",
       "   'min_impurity_decrease': 0.0001},\n",
       "  {'max_depth': 6, 'max_leaf_nodes': 16, 'min_impurity_decrease': 0.0001},\n",
       "  {'max_depth': 6, 'max_leaf_nodes': 24, 'min_impurity_decrease': 0.0001},\n",
       "  {'max_depth': 6, 'max_leaf_nodes': 32, 'min_impurity_decrease': 0.0001},\n",
       "  {'max_depth': 6, 'max_leaf_nodes': 40, 'min_impurity_decrease': 0.0001},\n",
       "  {'max_depth': 12, 'max_leaf_nodes': 8, 'min_impurity_decrease': 0.0001},\n",
       "  {'max_depth': 12, 'max_leaf_nodes': 16, 'min_impurity_decrease': 0.0001},\n",
       "  {'max_depth': 12, 'max_leaf_nodes': 24, 'min_impurity_decrease': 0.0001},\n",
       "  {'max_depth': 12, 'max_leaf_nodes': 32, 'min_impurity_decrease': 0.0001},\n",
       "  {'max_depth': 12, 'max_leaf_nodes': 40, 'min_impurity_decrease': 0.0001},\n",
       "  {'max_depth': 18, 'max_leaf_nodes': 8, 'min_impurity_decrease': 0.0001},\n",
       "  {'max_depth': 18, 'max_leaf_nodes': 16, 'min_impurity_decrease': 0.0001},\n",
       "  {'max_depth': 18, 'max_leaf_nodes': 24, 'min_impurity_decrease': 0.0001},\n",
       "  {'max_depth': 18, 'max_leaf_nodes': 32, 'min_impurity_decrease': 0.0001},\n",
       "  {'max_depth': 18, 'max_leaf_nodes': 40, 'min_impurity_decrease': 0.0001}],\n",
       " 'split0_test_score': array([0.79011208, 0.79379702, 0.79441118, 0.79456472, 0.79487179,\n",
       "        0.79011208, 0.79379702, 0.79441118, 0.7968678 , 0.7976355 ,\n",
       "        0.79011208, 0.79379702, 0.79441118, 0.7968678 , 0.7976355 ]),\n",
       " 'split1_test_score': array([0.78777641, 0.79514742, 0.79530098, 0.79591523, 0.79591523,\n",
       "        0.78777641, 0.79514742, 0.79821867, 0.79883292, 0.79806511,\n",
       "        0.78777641, 0.79514742, 0.79821867, 0.79883292, 0.79806511]),\n",
       " 'split2_test_score': array([0.79422604, 0.8034398 , 0.80236486, 0.80113636, 0.80036855,\n",
       "        0.79422604, 0.8034398 , 0.80236486, 0.80113636, 0.80251843,\n",
       "        0.79422604, 0.8034398 , 0.80236486, 0.80113636, 0.80251843]),\n",
       " 'split3_test_score': array([0.79269042, 0.80205774, 0.80282555, 0.80297912, 0.80297912,\n",
       "        0.79269042, 0.80205774, 0.80282555, 0.80297912, 0.80359337,\n",
       "        0.79269042, 0.80205774, 0.80282555, 0.80297912, 0.80359337]),\n",
       " 'split4_test_score': array([0.79176904, 0.79898649, 0.79960074, 0.7997543 , 0.7997543 ,\n",
       "        0.79176904, 0.79898649, 0.79960074, 0.79960074, 0.80052211,\n",
       "        0.79176904, 0.79898649, 0.79960074, 0.79960074, 0.80052211]),\n",
       " 'mean_test_score': array([0.7913148 , 0.79868569, 0.79890066, 0.79886995, 0.7987778 ,\n",
       "        0.7913148 , 0.79868569, 0.7994842 , 0.79988339, 0.8004669 ,\n",
       "        0.7913148 , 0.79868569, 0.7994842 , 0.79988339, 0.8004669 ]),\n",
       " 'std_test_score': array([0.00221543, 0.0037545 , 0.0034931 , 0.00316447, 0.00298618,\n",
       "        0.00221543, 0.0037545 , 0.00305986, 0.00207029, 0.00235678,\n",
       "        0.00221543, 0.0037545 , 0.00305986, 0.00207029, 0.00235678]),\n",
       " 'rank_test_score': array([13, 10,  7,  8,  9, 13, 10,  5,  3,  1, 13, 10,  5,  3,  1])}"
      ]
     },
     "execution_count": 95,
     "metadata": {},
     "output_type": "execute_result"
    }
   ],
   "source": [
    "#see results details\n",
    "gs.cv_results_"
   ]
  },
  {
   "cell_type": "code",
   "execution_count": 96,
   "id": "43ee8286-1692-46f4-be60-d2c2ad4dfa2a",
   "metadata": {
    "tags": []
   },
   "outputs": [
    {
     "data": {
      "text/html": [
       "<style>#sk-container-id-10 {color: black;}#sk-container-id-10 pre{padding: 0;}#sk-container-id-10 div.sk-toggleable {background-color: white;}#sk-container-id-10 label.sk-toggleable__label {cursor: pointer;display: block;width: 100%;margin-bottom: 0;padding: 0.3em;box-sizing: border-box;text-align: center;}#sk-container-id-10 label.sk-toggleable__label-arrow:before {content: \"▸\";float: left;margin-right: 0.25em;color: #696969;}#sk-container-id-10 label.sk-toggleable__label-arrow:hover:before {color: black;}#sk-container-id-10 div.sk-estimator:hover label.sk-toggleable__label-arrow:before {color: black;}#sk-container-id-10 div.sk-toggleable__content {max-height: 0;max-width: 0;overflow: hidden;text-align: left;background-color: #f0f8ff;}#sk-container-id-10 div.sk-toggleable__content pre {margin: 0.2em;color: black;border-radius: 0.25em;background-color: #f0f8ff;}#sk-container-id-10 input.sk-toggleable__control:checked~div.sk-toggleable__content {max-height: 200px;max-width: 100%;overflow: auto;}#sk-container-id-10 input.sk-toggleable__control:checked~label.sk-toggleable__label-arrow:before {content: \"▾\";}#sk-container-id-10 div.sk-estimator input.sk-toggleable__control:checked~label.sk-toggleable__label {background-color: #d4ebff;}#sk-container-id-10 div.sk-label input.sk-toggleable__control:checked~label.sk-toggleable__label {background-color: #d4ebff;}#sk-container-id-10 input.sk-hidden--visually {border: 0;clip: rect(1px 1px 1px 1px);clip: rect(1px, 1px, 1px, 1px);height: 1px;margin: -1px;overflow: hidden;padding: 0;position: absolute;width: 1px;}#sk-container-id-10 div.sk-estimator {font-family: monospace;background-color: #f0f8ff;border: 1px dotted black;border-radius: 0.25em;box-sizing: border-box;margin-bottom: 0.5em;}#sk-container-id-10 div.sk-estimator:hover {background-color: #d4ebff;}#sk-container-id-10 div.sk-parallel-item::after {content: \"\";width: 100%;border-bottom: 1px solid gray;flex-grow: 1;}#sk-container-id-10 div.sk-label:hover label.sk-toggleable__label {background-color: #d4ebff;}#sk-container-id-10 div.sk-serial::before {content: \"\";position: absolute;border-left: 1px solid gray;box-sizing: border-box;top: 0;bottom: 0;left: 50%;z-index: 0;}#sk-container-id-10 div.sk-serial {display: flex;flex-direction: column;align-items: center;background-color: white;padding-right: 0.2em;padding-left: 0.2em;position: relative;}#sk-container-id-10 div.sk-item {position: relative;z-index: 1;}#sk-container-id-10 div.sk-parallel {display: flex;align-items: stretch;justify-content: center;background-color: white;position: relative;}#sk-container-id-10 div.sk-item::before, #sk-container-id-10 div.sk-parallel-item::before {content: \"\";position: absolute;border-left: 1px solid gray;box-sizing: border-box;top: 0;bottom: 0;left: 50%;z-index: -1;}#sk-container-id-10 div.sk-parallel-item {display: flex;flex-direction: column;z-index: 1;position: relative;background-color: white;}#sk-container-id-10 div.sk-parallel-item:first-child::after {align-self: flex-end;width: 50%;}#sk-container-id-10 div.sk-parallel-item:last-child::after {align-self: flex-start;width: 50%;}#sk-container-id-10 div.sk-parallel-item:only-child::after {width: 0;}#sk-container-id-10 div.sk-dashed-wrapped {border: 1px dashed gray;margin: 0 0.4em 0.5em 0.4em;box-sizing: border-box;padding-bottom: 0.4em;background-color: white;}#sk-container-id-10 div.sk-label label {font-family: monospace;font-weight: bold;display: inline-block;line-height: 1.2em;}#sk-container-id-10 div.sk-label-container {text-align: center;}#sk-container-id-10 div.sk-container {/* jupyter's `normalize.less` sets `[hidden] { display: none; }` but bootstrap.min.css set `[hidden] { display: none !important; }` so we also need the `!important` here to be able to override the default hidden behavior on the sphinx rendered scikit-learn.org. See: https://github.com/scikit-learn/scikit-learn/issues/21755 */display: inline-block !important;position: relative;}#sk-container-id-10 div.sk-text-repr-fallback {display: none;}</style><div id=\"sk-container-id-10\" class=\"sk-top-container\"><div class=\"sk-text-repr-fallback\"><pre>DecisionTreeClassifier(max_depth=12, max_leaf_nodes=40,\n",
       "                       min_impurity_decrease=0.0001)</pre><b>In a Jupyter environment, please rerun this cell to show the HTML representation or trust the notebook. <br />On GitHub, the HTML representation is unable to render, please try loading this page with nbviewer.org.</b></div><div class=\"sk-container\" hidden><div class=\"sk-item\"><div class=\"sk-estimator sk-toggleable\"><input class=\"sk-toggleable__control sk-hidden--visually\" id=\"sk-estimator-id-22\" type=\"checkbox\" checked><label for=\"sk-estimator-id-22\" class=\"sk-toggleable__label sk-toggleable__label-arrow\">DecisionTreeClassifier</label><div class=\"sk-toggleable__content\"><pre>DecisionTreeClassifier(max_depth=12, max_leaf_nodes=40,\n",
       "                       min_impurity_decrease=0.0001)</pre></div></div></div></div></div>"
      ],
      "text/plain": [
       "DecisionTreeClassifier(max_depth=12, max_leaf_nodes=40,\n",
       "                       min_impurity_decrease=0.0001)"
      ]
     },
     "execution_count": 96,
     "metadata": {},
     "output_type": "execute_result"
    }
   ],
   "source": [
    "gs.best_estimator_"
   ]
  },
  {
   "cell_type": "code",
   "execution_count": 97,
   "id": "6412ea5b-f48e-44aa-b334-4ff99bb86137",
   "metadata": {
    "tags": []
   },
   "outputs": [
    {
     "data": {
      "text/plain": [
       "0.8027087620159086"
      ]
     },
     "execution_count": 97,
     "metadata": {},
     "output_type": "execute_result"
    }
   ],
   "source": [
    "y_predict = gs.predict(x)\n",
    "accuracy_score(y,y_predict)"
   ]
  },
  {
   "cell_type": "code",
   "execution_count": 98,
   "id": "a37a8286-2a51-4d5c-b44d-c26ad13eb1da",
   "metadata": {
    "tags": []
   },
   "outputs": [
    {
     "data": {
      "text/plain": [
       "[Text(0.4725, 0.9444444444444444, 'x[1] <= 12.5\\ngini = 0.366\\nsamples = 32561\\nvalue = [24720, 7841]'),\n",
       " Text(0.2275, 0.8333333333333334, 'x[0] <= 33.5\\ngini = 0.27\\nsamples = 24494\\nvalue = [20562, 3932]'),\n",
       " Text(0.09, 0.7222222222222222, 'x[0] <= 26.5\\ngini = 0.11\\nsamples = 10653\\nvalue = [10031, 622]'),\n",
       " Text(0.04, 0.6111111111111112, 'x[0] <= 23.5\\ngini = 0.035\\nsamples = 6238\\nvalue = [6128, 110]'),\n",
       " Text(0.02, 0.5, 'gini = 0.01\\nsamples = 4483\\nvalue = [4460, 23]'),\n",
       " Text(0.06, 0.5, 'gini = 0.094\\nsamples = 1755\\nvalue = [1668, 87]'),\n",
       " Text(0.14, 0.6111111111111112, 'x[2] <= 49.5\\ngini = 0.205\\nsamples = 4415\\nvalue = [3903, 512]'),\n",
       " Text(0.1, 0.5, 'x[1] <= 8.5\\ngini = 0.173\\nsamples = 3582\\nvalue = [3240, 342]'),\n",
       " Text(0.08, 0.3888888888888889, 'gini = 0.055\\nsamples = 533\\nvalue = [518, 15]'),\n",
       " Text(0.12, 0.3888888888888889, 'gini = 0.191\\nsamples = 3049\\nvalue = [2722, 327]'),\n",
       " Text(0.18, 0.5, 'x[0] <= 29.5\\ngini = 0.325\\nsamples = 833\\nvalue = [663, 170]'),\n",
       " Text(0.16, 0.3888888888888889, 'gini = 0.242\\nsamples = 327\\nvalue = [281, 46]'),\n",
       " Text(0.2, 0.3888888888888889, 'gini = 0.37\\nsamples = 506\\nvalue = [382, 124]'),\n",
       " Text(0.365, 0.7222222222222222, 'x[2] <= 41.5\\ngini = 0.364\\nsamples = 13841\\nvalue = [10531, 3310]'),\n",
       " Text(0.27, 0.6111111111111112, 'x[1] <= 8.5\\ngini = 0.311\\nsamples = 9892\\nvalue = [7985, 1907]'),\n",
       " Text(0.25, 0.5, 'gini = 0.132\\nsamples = 1815\\nvalue = [1686, 129]'),\n",
       " Text(0.29, 0.5, 'x[2] <= 38.5\\ngini = 0.343\\nsamples = 8077\\nvalue = [6299, 1778]'),\n",
       " Text(0.24, 0.3888888888888889, 'x[1] <= 9.5\\ngini = 0.222\\nsamples = 2210\\nvalue = [1929, 281]'),\n",
       " Text(0.22, 0.2777777777777778, 'gini = 0.16\\nsamples = 1287\\nvalue = [1174, 113]'),\n",
       " Text(0.26, 0.2777777777777778, 'gini = 0.298\\nsamples = 923\\nvalue = [755, 168]'),\n",
       " Text(0.34, 0.3888888888888889, 'x[0] <= 43.5\\ngini = 0.38\\nsamples = 5867\\nvalue = [4370, 1497]'),\n",
       " Text(0.3, 0.2777777777777778, 'x[1] <= 9.5\\ngini = 0.328\\nsamples = 2716\\nvalue = [2154, 562]'),\n",
       " Text(0.28, 0.16666666666666666, 'gini = 0.281\\nsamples = 1478\\nvalue = [1228, 250]'),\n",
       " Text(0.32, 0.16666666666666666, 'gini = 0.377\\nsamples = 1238\\nvalue = [926, 312]'),\n",
       " Text(0.38, 0.2777777777777778, 'x[1] <= 9.5\\ngini = 0.417\\nsamples = 3151\\nvalue = [2216, 935]'),\n",
       " Text(0.36, 0.16666666666666666, 'gini = 0.386\\nsamples = 1827\\nvalue = [1350, 477]'),\n",
       " Text(0.4, 0.16666666666666666, 'x[0] <= 61.5\\ngini = 0.453\\nsamples = 1324\\nvalue = [866, 458]'),\n",
       " Text(0.38, 0.05555555555555555, 'gini = 0.461\\nsamples = 1185\\nvalue = [759, 426]'),\n",
       " Text(0.42, 0.05555555555555555, 'gini = 0.354\\nsamples = 139\\nvalue = [107, 32]'),\n",
       " Text(0.46, 0.6111111111111112, 'x[1] <= 8.5\\ngini = 0.458\\nsamples = 3949\\nvalue = [2546, 1403]'),\n",
       " Text(0.44, 0.5, 'gini = 0.277\\nsamples = 487\\nvalue = [406, 81]'),\n",
       " Text(0.48, 0.5, 'x[1] <= 9.5\\ngini = 0.472\\nsamples = 3462\\nvalue = [2140, 1322]'),\n",
       " Text(0.44, 0.3888888888888889, 'x[0] <= 44.5\\ngini = 0.444\\nsamples = 1752\\nvalue = [1170, 582]'),\n",
       " Text(0.42, 0.2777777777777778, 'gini = 0.401\\nsamples = 911\\nvalue = [658, 253]'),\n",
       " Text(0.46, 0.2777777777777778, 'gini = 0.476\\nsamples = 841\\nvalue = [512, 329]'),\n",
       " Text(0.52, 0.3888888888888889, 'x[0] <= 35.5\\ngini = 0.491\\nsamples = 1710\\nvalue = [970, 740]'),\n",
       " Text(0.5, 0.2777777777777778, 'gini = 0.434\\nsamples = 173\\nvalue = [118, 55]'),\n",
       " Text(0.54, 0.2777777777777778, 'x[2] <= 43.5\\ngini = 0.494\\nsamples = 1537\\nvalue = [852, 685]'),\n",
       " Text(0.52, 0.16666666666666666, 'gini = 0.386\\nsamples = 65\\nvalue = [48, 17]'),\n",
       " Text(0.56, 0.16666666666666666, 'gini = 0.496\\nsamples = 1472\\nvalue = [804, 668]'),\n",
       " Text(0.7175, 0.8333333333333334, 'x[0] <= 29.5\\ngini = 0.5\\nsamples = 8067\\nvalue = [4158, 3909]'),\n",
       " Text(0.6, 0.7222222222222222, 'x[0] <= 27.5\\ngini = 0.246\\nsamples = 1617\\nvalue = [1385, 232]'),\n",
       " Text(0.56, 0.6111111111111112, 'x[2] <= 41.5\\ngini = 0.155\\nsamples = 1191\\nvalue = [1090, 101]'),\n",
       " Text(0.54, 0.5, 'gini = 0.098\\nsamples = 893\\nvalue = [847, 46]'),\n",
       " Text(0.58, 0.5, 'x[0] <= 24.5\\ngini = 0.301\\nsamples = 298\\nvalue = [243, 55]'),\n",
       " Text(0.56, 0.3888888888888889, 'gini = 0.118\\nsamples = 95\\nvalue = [89, 6]'),\n",
       " Text(0.6, 0.3888888888888889, 'gini = 0.366\\nsamples = 203\\nvalue = [154, 49]'),\n",
       " Text(0.64, 0.6111111111111112, 'x[2] <= 41.5\\ngini = 0.426\\nsamples = 426\\nvalue = [295, 131]'),\n",
       " Text(0.62, 0.5, 'gini = 0.366\\nsamples = 228\\nvalue = [173, 55]'),\n",
       " Text(0.66, 0.5, 'gini = 0.473\\nsamples = 198\\nvalue = [122, 76]'),\n",
       " Text(0.835, 0.7222222222222222, 'x[2] <= 42.5\\ngini = 0.49\\nsamples = 6450\\nvalue = [2773, 3677]'),\n",
       " Text(0.75, 0.6111111111111112, 'x[1] <= 14.5\\ngini = 0.499\\nsamples = 3501\\nvalue = [1834, 1667]'),\n",
       " Text(0.7, 0.5, 'x[2] <= 31.0\\ngini = 0.495\\nsamples = 3103\\nvalue = [1704, 1399]'),\n",
       " Text(0.68, 0.3888888888888889, 'gini = 0.403\\nsamples = 454\\nvalue = [327, 127]'),\n",
       " Text(0.72, 0.3888888888888889, 'x[0] <= 41.5\\ngini = 0.499\\nsamples = 2649\\nvalue = [1377, 1272]'),\n",
       " Text(0.68, 0.2777777777777778, 'x[0] <= 33.5\\ngini = 0.477\\nsamples = 1209\\nvalue = [733, 476]'),\n",
       " Text(0.66, 0.16666666666666666, 'gini = 0.446\\nsamples = 399\\nvalue = [265, 134]'),\n",
       " Text(0.7, 0.16666666666666666, 'gini = 0.488\\nsamples = 810\\nvalue = [468, 342]'),\n",
       " Text(0.76, 0.2777777777777778, 'x[2] <= 39.5\\ngini = 0.494\\nsamples = 1440\\nvalue = [644, 796]'),\n",
       " Text(0.74, 0.16666666666666666, 'x[1] <= 13.5\\ngini = 0.494\\nsamples = 202\\nvalue = [112, 90]'),\n",
       " Text(0.72, 0.05555555555555555, 'gini = 0.465\\nsamples = 128\\nvalue = [81, 47]'),\n",
       " Text(0.76, 0.05555555555555555, 'gini = 0.487\\nsamples = 74\\nvalue = [31, 43]'),\n",
       " Text(0.78, 0.16666666666666666, 'gini = 0.49\\nsamples = 1238\\nvalue = [532, 706]'),\n",
       " Text(0.8, 0.5, 'x[2] <= 23.5\\ngini = 0.44\\nsamples = 398\\nvalue = [130, 268]'),\n",
       " Text(0.78, 0.3888888888888889, 'gini = 0.476\\nsamples = 46\\nvalue = [28, 18]'),\n",
       " Text(0.82, 0.3888888888888889, 'x[0] <= 32.5\\ngini = 0.412\\nsamples = 352\\nvalue = [102, 250]'),\n",
       " Text(0.8, 0.2777777777777778, 'gini = 0.444\\nsamples = 24\\nvalue = [16, 8]'),\n",
       " Text(0.84, 0.2777777777777778, 'x[0] <= 70.5\\ngini = 0.387\\nsamples = 328\\nvalue = [86, 242]'),\n",
       " Text(0.82, 0.16666666666666666, 'gini = 0.365\\nsamples = 308\\nvalue = [74, 234]'),\n",
       " Text(0.86, 0.16666666666666666, 'gini = 0.48\\nsamples = 20\\nvalue = [12, 8]'),\n",
       " Text(0.92, 0.6111111111111112, 'x[1] <= 14.5\\ngini = 0.434\\nsamples = 2949\\nvalue = [939, 2010]'),\n",
       " Text(0.88, 0.5, 'x[0] <= 36.5\\ngini = 0.457\\nsamples = 2420\\nvalue = [855, 1565]'),\n",
       " Text(0.86, 0.3888888888888889, 'gini = 0.488\\nsamples = 646\\nvalue = [273, 373]'),\n",
       " Text(0.9, 0.3888888888888889, 'x[2] <= 69.0\\ngini = 0.441\\nsamples = 1774\\nvalue = [582, 1192]'),\n",
       " Text(0.88, 0.2777777777777778, 'gini = 0.433\\nsamples = 1647\\nvalue = [522, 1125]'),\n",
       " Text(0.92, 0.2777777777777778, 'gini = 0.498\\nsamples = 127\\nvalue = [60, 67]'),\n",
       " Text(0.96, 0.5, 'x[0] <= 31.5\\ngini = 0.267\\nsamples = 529\\nvalue = [84, 445]'),\n",
       " Text(0.94, 0.3888888888888889, 'gini = 0.499\\nsamples = 27\\nvalue = [13, 14]'),\n",
       " Text(0.98, 0.3888888888888889, 'gini = 0.243\\nsamples = 502\\nvalue = [71, 431]')]"
      ]
     },
     "execution_count": 98,
     "metadata": {},
     "output_type": "execute_result"
    },
    {
     "data": {
      "image/png": "[encoded data removed]",
      "text/plain": [
       "<Figure size 640x480 with 1 Axes>"
      ]
     },
     "metadata": {},
     "output_type": "display_data"
    }
   ],
   "source": [
    "tree.plot_tree(gs.best_estimator_)"
   ]
  },
  {
   "cell_type": "code",
   "execution_count": null,
   "id": "89399a1f-bd26-41b7-bbe1-4881275f9b33",
   "metadata": {},
   "outputs": [],
   "source": []
  }
 ],
 "metadata": {
  "kernelspec": {
   "display_name": "Python 3 (ipykernel)",
   "language": "python",
   "name": "python3"
  },
  "language_info": {
   "codemirror_mode": {
    "name": "ipython",
    "version": 3
   },
   "file_extension": ".py",
   "mimetype": "text/x-python",
   "name": "python",
   "nbconvert_exporter": "python",
   "pygments_lexer": "ipython3",
   "version": "3.9.17"
  }
 },
 "nbformat": 4,
 "nbformat_minor": 5
}
