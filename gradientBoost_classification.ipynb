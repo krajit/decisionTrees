{
 "cells": [
  {
   "cell_type": "code",
   "execution_count": 1,
   "id": "b2ca283e-0b0e-4d3a-8cfb-a03c0abd2777",
   "metadata": {
    "tags": []
   },
   "outputs": [],
   "source": [
    "import numpy as np\n",
    "import pandas as pd\n",
    "pd.set_option('display.precision',3)"
   ]
  },
  {
   "cell_type": "code",
   "execution_count": 2,
   "id": "36e22a22-4ea9-476f-8849-f09ca2216288",
   "metadata": {
    "tags": []
   },
   "outputs": [
    {
     "data": {
      "text/html": [
       "<div>\n",
       "<style scoped>\n",
       "    .dataframe tbody tr th:only-of-type {\n",
       "        vertical-align: middle;\n",
       "    }\n",
       "\n",
       "    .dataframe tbody tr th {\n",
       "        vertical-align: top;\n",
       "    }\n",
       "\n",
       "    .dataframe thead th {\n",
       "        text-align: right;\n",
       "    }\n",
       "</style>\n",
       "<table border=\"1\" class=\"dataframe\">\n",
       "  <thead>\n",
       "    <tr style=\"text-align: right;\">\n",
       "      <th></th>\n",
       "      <th>Likes Popcorn</th>\n",
       "      <th>Age</th>\n",
       "      <th>Fav Color</th>\n",
       "      <th>Loves Troll</th>\n",
       "    </tr>\n",
       "  </thead>\n",
       "  <tbody>\n",
       "    <tr>\n",
       "      <th>0</th>\n",
       "      <td>1</td>\n",
       "      <td>12</td>\n",
       "      <td>B</td>\n",
       "      <td>1</td>\n",
       "    </tr>\n",
       "    <tr>\n",
       "      <th>1</th>\n",
       "      <td>1</td>\n",
       "      <td>87</td>\n",
       "      <td>G</td>\n",
       "      <td>1</td>\n",
       "    </tr>\n",
       "    <tr>\n",
       "      <th>2</th>\n",
       "      <td>0</td>\n",
       "      <td>44</td>\n",
       "      <td>B</td>\n",
       "      <td>0</td>\n",
       "    </tr>\n",
       "    <tr>\n",
       "      <th>3</th>\n",
       "      <td>1</td>\n",
       "      <td>19</td>\n",
       "      <td>R</td>\n",
       "      <td>0</td>\n",
       "    </tr>\n",
       "    <tr>\n",
       "      <th>4</th>\n",
       "      <td>0</td>\n",
       "      <td>32</td>\n",
       "      <td>G</td>\n",
       "      <td>1</td>\n",
       "    </tr>\n",
       "    <tr>\n",
       "      <th>5</th>\n",
       "      <td>0</td>\n",
       "      <td>14</td>\n",
       "      <td>B</td>\n",
       "      <td>1</td>\n",
       "    </tr>\n",
       "  </tbody>\n",
       "</table>\n",
       "</div>"
      ],
      "text/plain": [
       "   Likes Popcorn  Age Fav Color  Loves Troll\n",
       "0              1   12         B            1\n",
       "1              1   87         G            1\n",
       "2              0   44         B            0\n",
       "3              1   19         R            0\n",
       "4              0   32         G            1\n",
       "5              0   14         B            1"
      ]
     },
     "execution_count": 2,
     "metadata": {},
     "output_type": "execute_result"
    }
   ],
   "source": [
    "\n",
    "\n",
    "df = pd.DataFrame({\n",
    "    \"Likes Popcorn\" : [1,1,0,1,0,0],\n",
    "    \"Age\": [12, 87, 44, 19, 32, 14],\n",
    "    \"Fav Color\": ['B','G','B','R','G','B'],\n",
    "    \"Loves Troll\": [1,1,0,0,1,1]\n",
    "})\n",
    "df"
   ]
  },
  {
   "cell_type": "code",
   "execution_count": 4,
   "id": "7db9de7f-dfcb-479b-af34-60eaaa9abc43",
   "metadata": {
    "tags": []
   },
   "outputs": [
    {
     "data": {
      "text/html": [
       "<div>\n",
       "<style scoped>\n",
       "    .dataframe tbody tr th:only-of-type {\n",
       "        vertical-align: middle;\n",
       "    }\n",
       "\n",
       "    .dataframe tbody tr th {\n",
       "        vertical-align: top;\n",
       "    }\n",
       "\n",
       "    .dataframe thead th {\n",
       "        text-align: right;\n",
       "    }\n",
       "</style>\n",
       "<table border=\"1\" class=\"dataframe\">\n",
       "  <thead>\n",
       "    <tr style=\"text-align: right;\">\n",
       "      <th></th>\n",
       "      <th>Likes Popcorn</th>\n",
       "      <th>Age</th>\n",
       "      <th>Loves Troll</th>\n",
       "      <th>Fav Color_B</th>\n",
       "      <th>Fav Color_G</th>\n",
       "      <th>Fav Color_R</th>\n",
       "    </tr>\n",
       "  </thead>\n",
       "  <tbody>\n",
       "    <tr>\n",
       "      <th>0</th>\n",
       "      <td>1</td>\n",
       "      <td>12</td>\n",
       "      <td>1</td>\n",
       "      <td>True</td>\n",
       "      <td>False</td>\n",
       "      <td>False</td>\n",
       "    </tr>\n",
       "    <tr>\n",
       "      <th>1</th>\n",
       "      <td>1</td>\n",
       "      <td>87</td>\n",
       "      <td>1</td>\n",
       "      <td>False</td>\n",
       "      <td>True</td>\n",
       "      <td>False</td>\n",
       "    </tr>\n",
       "    <tr>\n",
       "      <th>2</th>\n",
       "      <td>0</td>\n",
       "      <td>44</td>\n",
       "      <td>0</td>\n",
       "      <td>True</td>\n",
       "      <td>False</td>\n",
       "      <td>False</td>\n",
       "    </tr>\n",
       "    <tr>\n",
       "      <th>3</th>\n",
       "      <td>1</td>\n",
       "      <td>19</td>\n",
       "      <td>0</td>\n",
       "      <td>False</td>\n",
       "      <td>False</td>\n",
       "      <td>True</td>\n",
       "    </tr>\n",
       "    <tr>\n",
       "      <th>4</th>\n",
       "      <td>0</td>\n",
       "      <td>32</td>\n",
       "      <td>1</td>\n",
       "      <td>False</td>\n",
       "      <td>True</td>\n",
       "      <td>False</td>\n",
       "    </tr>\n",
       "    <tr>\n",
       "      <th>5</th>\n",
       "      <td>0</td>\n",
       "      <td>14</td>\n",
       "      <td>1</td>\n",
       "      <td>True</td>\n",
       "      <td>False</td>\n",
       "      <td>False</td>\n",
       "    </tr>\n",
       "  </tbody>\n",
       "</table>\n",
       "</div>"
      ],
      "text/plain": [
       "   Likes Popcorn  Age  Loves Troll  Fav Color_B  Fav Color_G  Fav Color_R\n",
       "0              1   12            1         True        False        False\n",
       "1              1   87            1        False         True        False\n",
       "2              0   44            0         True        False        False\n",
       "3              1   19            0        False        False         True\n",
       "4              0   32            1        False         True        False\n",
       "5              0   14            1         True        False        False"
      ]
     },
     "execution_count": 4,
     "metadata": {},
     "output_type": "execute_result"
    }
   ],
   "source": [
    "df = pd.get_dummies(df)\n",
    "df"
   ]
  },
  {
   "cell_type": "code",
   "execution_count": 10,
   "id": "733d74af-588a-4247-b272-9b3ef5144f79",
   "metadata": {
    "tags": []
   },
   "outputs": [],
   "source": [
    "# rerraange\n",
    "df = df.iloc[:,[0,1,3,4,5,2]]\n",
    "df = df.copy()"
   ]
  },
  {
   "attachments": {
    "31bdfe14-c47d-4934-b350-841e640f9ba0.png": {
     "image/png": "[encoded data removed]"
    }
   },
   "cell_type": "markdown",
   "id": "296b2b4f-5360-4529-b503-530fb8f77a27",
   "metadata": {},
   "source": [
    "## Step 1\n",
    "\n",
    "- log of odd\n",
    "\n",
    "- convert odds to probability\n",
    "\n",
    "![image.png](attachment:31bdfe14-c47d-4934-b350-841e640f9ba0.png)"
   ]
  },
  {
   "cell_type": "code",
   "execution_count": 11,
   "id": "46c71f07-9da9-4983-af29-425ae95817b4",
   "metadata": {
    "tags": []
   },
   "outputs": [
    {
     "data": {
      "text/html": [
       "<div>\n",
       "<style scoped>\n",
       "    .dataframe tbody tr th:only-of-type {\n",
       "        vertical-align: middle;\n",
       "    }\n",
       "\n",
       "    .dataframe tbody tr th {\n",
       "        vertical-align: top;\n",
       "    }\n",
       "\n",
       "    .dataframe thead th {\n",
       "        text-align: right;\n",
       "    }\n",
       "</style>\n",
       "<table border=\"1\" class=\"dataframe\">\n",
       "  <thead>\n",
       "    <tr style=\"text-align: right;\">\n",
       "      <th></th>\n",
       "      <th>Likes Popcorn</th>\n",
       "      <th>Age</th>\n",
       "      <th>Fav Color_G</th>\n",
       "      <th>Fav Color_R</th>\n",
       "      <th>Loves Troll</th>\n",
       "      <th>Fav Color_B</th>\n",
       "      <th>pred1</th>\n",
       "    </tr>\n",
       "  </thead>\n",
       "  <tbody>\n",
       "    <tr>\n",
       "      <th>0</th>\n",
       "      <td>1</td>\n",
       "      <td>12</td>\n",
       "      <td>False</td>\n",
       "      <td>False</td>\n",
       "      <td>1</td>\n",
       "      <td>True</td>\n",
       "      <td>0.667</td>\n",
       "    </tr>\n",
       "    <tr>\n",
       "      <th>1</th>\n",
       "      <td>1</td>\n",
       "      <td>87</td>\n",
       "      <td>True</td>\n",
       "      <td>False</td>\n",
       "      <td>1</td>\n",
       "      <td>False</td>\n",
       "      <td>0.667</td>\n",
       "    </tr>\n",
       "    <tr>\n",
       "      <th>2</th>\n",
       "      <td>0</td>\n",
       "      <td>44</td>\n",
       "      <td>False</td>\n",
       "      <td>False</td>\n",
       "      <td>0</td>\n",
       "      <td>True</td>\n",
       "      <td>0.667</td>\n",
       "    </tr>\n",
       "    <tr>\n",
       "      <th>3</th>\n",
       "      <td>1</td>\n",
       "      <td>19</td>\n",
       "      <td>False</td>\n",
       "      <td>True</td>\n",
       "      <td>0</td>\n",
       "      <td>False</td>\n",
       "      <td>0.667</td>\n",
       "    </tr>\n",
       "    <tr>\n",
       "      <th>4</th>\n",
       "      <td>0</td>\n",
       "      <td>32</td>\n",
       "      <td>True</td>\n",
       "      <td>False</td>\n",
       "      <td>1</td>\n",
       "      <td>False</td>\n",
       "      <td>0.667</td>\n",
       "    </tr>\n",
       "    <tr>\n",
       "      <th>5</th>\n",
       "      <td>0</td>\n",
       "      <td>14</td>\n",
       "      <td>False</td>\n",
       "      <td>False</td>\n",
       "      <td>1</td>\n",
       "      <td>True</td>\n",
       "      <td>0.667</td>\n",
       "    </tr>\n",
       "  </tbody>\n",
       "</table>\n",
       "</div>"
      ],
      "text/plain": [
       "   Likes Popcorn  Age  Fav Color_G  Fav Color_R  Loves Troll  Fav Color_B  \\\n",
       "0              1   12        False        False            1         True   \n",
       "1              1   87         True        False            1        False   \n",
       "2              0   44        False        False            0         True   \n",
       "3              1   19        False         True            0        False   \n",
       "4              0   32         True        False            1        False   \n",
       "5              0   14        False        False            1         True   \n",
       "\n",
       "   pred1  \n",
       "0  0.667  \n",
       "1  0.667  \n",
       "2  0.667  \n",
       "3  0.667  \n",
       "4  0.667  \n",
       "5  0.667  "
      ]
     },
     "execution_count": 11,
     "metadata": {},
     "output_type": "execute_result"
    }
   ],
   "source": [
    "## Step 1a\n",
    "odds = (df['Loves Troll'] == 1).sum()/(df['Loves Troll'] == 0).sum()\n",
    "odds = np.log(odds)\n",
    "P = np.exp(odds)/(1 + np.exp(odds))\n",
    "P\n",
    "df['pred1'] = P\n",
    "df"
   ]
  },
  {
   "cell_type": "markdown",
   "id": "eab9bac4-e26b-4706-b623-52df73478d67",
   "metadata": {},
   "source": [
    "## Step 2: Calculate residuals\n",
    "\n",
    "residuals  = observed - prev predictions\n"
   ]
  },
  {
   "cell_type": "code",
   "execution_count": 12,
   "id": "09036f82-29c5-468e-882e-bf8bdd5ca72e",
   "metadata": {
    "tags": []
   },
   "outputs": [
    {
     "data": {
      "text/html": [
       "<div>\n",
       "<style scoped>\n",
       "    .dataframe tbody tr th:only-of-type {\n",
       "        vertical-align: middle;\n",
       "    }\n",
       "\n",
       "    .dataframe tbody tr th {\n",
       "        vertical-align: top;\n",
       "    }\n",
       "\n",
       "    .dataframe thead th {\n",
       "        text-align: right;\n",
       "    }\n",
       "</style>\n",
       "<table border=\"1\" class=\"dataframe\">\n",
       "  <thead>\n",
       "    <tr style=\"text-align: right;\">\n",
       "      <th></th>\n",
       "      <th>Likes Popcorn</th>\n",
       "      <th>Age</th>\n",
       "      <th>Fav Color_G</th>\n",
       "      <th>Fav Color_R</th>\n",
       "      <th>Loves Troll</th>\n",
       "      <th>Fav Color_B</th>\n",
       "      <th>pred1</th>\n",
       "      <th>res1</th>\n",
       "    </tr>\n",
       "  </thead>\n",
       "  <tbody>\n",
       "    <tr>\n",
       "      <th>0</th>\n",
       "      <td>1</td>\n",
       "      <td>12</td>\n",
       "      <td>False</td>\n",
       "      <td>False</td>\n",
       "      <td>1</td>\n",
       "      <td>True</td>\n",
       "      <td>0.667</td>\n",
       "      <td>0.333</td>\n",
       "    </tr>\n",
       "    <tr>\n",
       "      <th>1</th>\n",
       "      <td>1</td>\n",
       "      <td>87</td>\n",
       "      <td>True</td>\n",
       "      <td>False</td>\n",
       "      <td>1</td>\n",
       "      <td>False</td>\n",
       "      <td>0.667</td>\n",
       "      <td>0.333</td>\n",
       "    </tr>\n",
       "    <tr>\n",
       "      <th>2</th>\n",
       "      <td>0</td>\n",
       "      <td>44</td>\n",
       "      <td>False</td>\n",
       "      <td>False</td>\n",
       "      <td>0</td>\n",
       "      <td>True</td>\n",
       "      <td>0.667</td>\n",
       "      <td>-0.667</td>\n",
       "    </tr>\n",
       "    <tr>\n",
       "      <th>3</th>\n",
       "      <td>1</td>\n",
       "      <td>19</td>\n",
       "      <td>False</td>\n",
       "      <td>True</td>\n",
       "      <td>0</td>\n",
       "      <td>False</td>\n",
       "      <td>0.667</td>\n",
       "      <td>-0.667</td>\n",
       "    </tr>\n",
       "    <tr>\n",
       "      <th>4</th>\n",
       "      <td>0</td>\n",
       "      <td>32</td>\n",
       "      <td>True</td>\n",
       "      <td>False</td>\n",
       "      <td>1</td>\n",
       "      <td>False</td>\n",
       "      <td>0.667</td>\n",
       "      <td>0.333</td>\n",
       "    </tr>\n",
       "    <tr>\n",
       "      <th>5</th>\n",
       "      <td>0</td>\n",
       "      <td>14</td>\n",
       "      <td>False</td>\n",
       "      <td>False</td>\n",
       "      <td>1</td>\n",
       "      <td>True</td>\n",
       "      <td>0.667</td>\n",
       "      <td>0.333</td>\n",
       "    </tr>\n",
       "  </tbody>\n",
       "</table>\n",
       "</div>"
      ],
      "text/plain": [
       "   Likes Popcorn  Age  Fav Color_G  Fav Color_R  Loves Troll  Fav Color_B  \\\n",
       "0              1   12        False        False            1         True   \n",
       "1              1   87         True        False            1        False   \n",
       "2              0   44        False        False            0         True   \n",
       "3              1   19        False         True            0        False   \n",
       "4              0   32         True        False            1        False   \n",
       "5              0   14        False        False            1         True   \n",
       "\n",
       "   pred1   res1  \n",
       "0  0.667  0.333  \n",
       "1  0.667  0.333  \n",
       "2  0.667 -0.667  \n",
       "3  0.667 -0.667  \n",
       "4  0.667  0.333  \n",
       "5  0.667  0.333  "
      ]
     },
     "execution_count": 12,
     "metadata": {},
     "output_type": "execute_result"
    }
   ],
   "source": [
    "df['res1'] = df['Loves Troll'] - df['pred1']\n",
    "df"
   ]
  },
  {
   "cell_type": "markdown",
   "id": "d0c146cd-0e5a-4c71-9fad-33dd95585c7e",
   "metadata": {},
   "source": [
    "## Step 3:\n",
    "\n",
    "Create a tree to predict residuals\n"
   ]
  },
  {
   "cell_type": "code",
   "execution_count": 13,
   "id": "ed8d972b-981b-4b06-a1f6-42d38bded2ca",
   "metadata": {
    "tags": []
   },
   "outputs": [],
   "source": [
    "x = np.array(df.drop(columns=['pred1', 'Loves Troll', 'res1']))\n",
    "y = np.array(df['res1'])"
   ]
  },
  {
   "cell_type": "code",
   "execution_count": 14,
   "id": "f94f0f71-a823-4e44-a04b-273c434ed9f1",
   "metadata": {
    "tags": []
   },
   "outputs": [
    {
     "data": {
      "text/plain": [
       "[Text(0.6, 0.8333333333333334, 'Fav Color_G <= 0.5\\nsquared_error = 0.222\\nsamples = 6\\nvalue = 0.0'),\n",
       " Text(0.4, 0.5, 'Age <= 38.0\\nsquared_error = 0.16\\nsamples = 5\\nvalue = 0.133'),\n",
       " Text(0.2, 0.16666666666666666, 'squared_error = 0.0\\nsamples = 3\\nvalue = 0.333'),\n",
       " Text(0.6, 0.16666666666666666, 'squared_error = 0.25\\nsamples = 2\\nvalue = -0.167'),\n",
       " Text(0.8, 0.5, 'squared_error = 0.0\\nsamples = 1\\nvalue = -0.667')]"
      ]
     },
     "execution_count": 14,
     "metadata": {},
     "output_type": "execute_result"
    },
    {
     "data": {
      "image/png": "[encoded data removed]",
      "text/plain": [
       "<Figure size 640x480 with 1 Axes>"
      ]
     },
     "metadata": {},
     "output_type": "display_data"
    }
   ],
   "source": [
    "from sklearn.tree import DecisionTreeRegressor\n",
    "from sklearn import tree\n",
    "\n",
    "t1 = DecisionTreeRegressor(max_depth=2)\n",
    "t1.fit(x,y)\n",
    "tree.plot_tree(t1, feature_names=['Likes Popcorn','Age', 'Fav Color_B', 'Fav Color_G', 'Fav Color_R'])"
   ]
  },
  {
   "cell_type": "code",
   "execution_count": 15,
   "id": "d2a41a5c-4dba-4d5c-b00d-49c281ce2c06",
   "metadata": {
    "tags": []
   },
   "outputs": [
    {
     "data": {
      "text/html": [
       "<div>\n",
       "<style scoped>\n",
       "    .dataframe tbody tr th:only-of-type {\n",
       "        vertical-align: middle;\n",
       "    }\n",
       "\n",
       "    .dataframe tbody tr th {\n",
       "        vertical-align: top;\n",
       "    }\n",
       "\n",
       "    .dataframe thead th {\n",
       "        text-align: right;\n",
       "    }\n",
       "</style>\n",
       "<table border=\"1\" class=\"dataframe\">\n",
       "  <thead>\n",
       "    <tr style=\"text-align: right;\">\n",
       "      <th></th>\n",
       "      <th>Likes Popcorn</th>\n",
       "      <th>Age</th>\n",
       "      <th>Fav Color_G</th>\n",
       "      <th>Fav Color_R</th>\n",
       "      <th>Loves Troll</th>\n",
       "      <th>Fav Color_B</th>\n",
       "      <th>pred1</th>\n",
       "      <th>res1</th>\n",
       "      <th>pred_t1_odds</th>\n",
       "    </tr>\n",
       "  </thead>\n",
       "  <tbody>\n",
       "    <tr>\n",
       "      <th>0</th>\n",
       "      <td>1</td>\n",
       "      <td>12</td>\n",
       "      <td>False</td>\n",
       "      <td>False</td>\n",
       "      <td>1</td>\n",
       "      <td>True</td>\n",
       "      <td>0.667</td>\n",
       "      <td>0.333</td>\n",
       "      <td>0.333</td>\n",
       "    </tr>\n",
       "    <tr>\n",
       "      <th>1</th>\n",
       "      <td>1</td>\n",
       "      <td>87</td>\n",
       "      <td>True</td>\n",
       "      <td>False</td>\n",
       "      <td>1</td>\n",
       "      <td>False</td>\n",
       "      <td>0.667</td>\n",
       "      <td>0.333</td>\n",
       "      <td>-0.167</td>\n",
       "    </tr>\n",
       "    <tr>\n",
       "      <th>2</th>\n",
       "      <td>0</td>\n",
       "      <td>44</td>\n",
       "      <td>False</td>\n",
       "      <td>False</td>\n",
       "      <td>0</td>\n",
       "      <td>True</td>\n",
       "      <td>0.667</td>\n",
       "      <td>-0.667</td>\n",
       "      <td>-0.167</td>\n",
       "    </tr>\n",
       "    <tr>\n",
       "      <th>3</th>\n",
       "      <td>1</td>\n",
       "      <td>19</td>\n",
       "      <td>False</td>\n",
       "      <td>True</td>\n",
       "      <td>0</td>\n",
       "      <td>False</td>\n",
       "      <td>0.667</td>\n",
       "      <td>-0.667</td>\n",
       "      <td>-0.667</td>\n",
       "    </tr>\n",
       "    <tr>\n",
       "      <th>4</th>\n",
       "      <td>0</td>\n",
       "      <td>32</td>\n",
       "      <td>True</td>\n",
       "      <td>False</td>\n",
       "      <td>1</td>\n",
       "      <td>False</td>\n",
       "      <td>0.667</td>\n",
       "      <td>0.333</td>\n",
       "      <td>0.333</td>\n",
       "    </tr>\n",
       "    <tr>\n",
       "      <th>5</th>\n",
       "      <td>0</td>\n",
       "      <td>14</td>\n",
       "      <td>False</td>\n",
       "      <td>False</td>\n",
       "      <td>1</td>\n",
       "      <td>True</td>\n",
       "      <td>0.667</td>\n",
       "      <td>0.333</td>\n",
       "      <td>0.333</td>\n",
       "    </tr>\n",
       "  </tbody>\n",
       "</table>\n",
       "</div>"
      ],
      "text/plain": [
       "   Likes Popcorn  Age  Fav Color_G  Fav Color_R  Loves Troll  Fav Color_B  \\\n",
       "0              1   12        False        False            1         True   \n",
       "1              1   87         True        False            1        False   \n",
       "2              0   44        False        False            0         True   \n",
       "3              1   19        False         True            0        False   \n",
       "4              0   32         True        False            1        False   \n",
       "5              0   14        False        False            1         True   \n",
       "\n",
       "   pred1   res1  pred_t1_odds  \n",
       "0  0.667  0.333         0.333  \n",
       "1  0.667  0.333        -0.167  \n",
       "2  0.667 -0.667        -0.167  \n",
       "3  0.667 -0.667        -0.667  \n",
       "4  0.667  0.333         0.333  \n",
       "5  0.667  0.333         0.333  "
      ]
     },
     "execution_count": 15,
     "metadata": {},
     "output_type": "execute_result"
    }
   ],
   "source": [
    "df['pred_t1_odds'] = t1.predict(x)\n",
    "df"
   ]
  },
  {
   "cell_type": "code",
   "execution_count": 17,
   "id": "935638a0-9fa8-4aba-a358-4af2a94a4155",
   "metadata": {
    "tags": []
   },
   "outputs": [
    {
     "data": {
      "text/plain": [
       "[Text(0.6, 0.8333333333333334, 'x[3] <= 0.5\\nsquared_error = 0.222\\nsamples = 6\\nvalue = 0.0'),\n",
       " Text(0.4, 0.5, 'x[1] <= 38.0\\nsquared_error = 0.16\\nsamples = 5\\nvalue = 0.133'),\n",
       " Text(0.2, 0.16666666666666666, 'squared_error = 0.0\\nsamples = 3\\nvalue = 0.333'),\n",
       " Text(0.6, 0.16666666666666666, 'squared_error = 0.25\\nsamples = 2\\nvalue = -0.167'),\n",
       " Text(0.8, 0.5, 'squared_error = 0.0\\nsamples = 1\\nvalue = -0.667')]"
      ]
     },
     "execution_count": 17,
     "metadata": {},
     "output_type": "execute_result"
    },
    {
     "data": {
      "image/png": "[encoded data removed]",
      "text/plain": [
       "<Figure size 640x480 with 1 Axes>"
      ]
     },
     "metadata": {},
     "output_type": "display_data"
    }
   ],
   "source": [
    "tree.plot_tree(t1)"
   ]
  },
  {
   "cell_type": "code",
   "execution_count": 48,
   "id": "e89f8d6a-4320-47df-a188-2fc5663d7b63",
   "metadata": {
    "tags": []
   },
   "outputs": [],
   "source": [
    "t"
   ]
  },
  {
   "cell_type": "code",
   "execution_count": null,
   "id": "8d49ac90-047c-45bc-a37d-3097eaa7563f",
   "metadata": {},
   "outputs": [],
   "source": []
  }
 ],
 "metadata": {
  "kernelspec": {
   "display_name": "Python 3 (ipykernel)",
   "language": "python",
   "name": "python3"
  },
  "language_info": {
   "codemirror_mode": {
    "name": "ipython",
    "version": 3
   },
   "file_extension": ".py",
   "mimetype": "text/x-python",
   "name": "python",
   "nbconvert_exporter": "python",
   "pygments_lexer": "ipython3",
   "version": "3.9.17"
  }
 },
 "nbformat": 4,
 "nbformat_minor": 5
}
